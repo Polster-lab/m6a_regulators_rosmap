{
 "cells": [
  {
   "cell_type": "markdown",
   "id": "7fb89aa9-7976-4cb1-8e18-4a6e05e68435",
   "metadata": {},
   "source": [
    "# R code"
   ]
  },
  {
   "cell_type": "code",
   "execution_count": 1,
   "id": "0dcaee5a-1e49-4685-9b1f-f4a9e73c8b67",
   "metadata": {},
   "outputs": [
    {
     "name": "stderr",
     "output_type": "stream",
     "text": [
      "Loading required package: SeuratObject\n",
      "\n",
      "Loading required package: sp\n",
      "\n",
      "\n",
      "Attaching package: ‘SeuratObject’\n",
      "\n",
      "\n",
      "The following objects are masked from ‘package:base’:\n",
      "\n",
      "    intersect, t\n",
      "\n",
      "\n"
     ]
    }
   ],
   "source": [
    "library(Seurat)\n"
   ]
  },
  {
   "cell_type": "code",
   "execution_count": null,
   "id": "e649be5c-0b8f-40f4-95a3-71061d32be3c",
   "metadata": {},
   "outputs": [],
   "source": [
    "\n"
   ]
  },
  {
   "cell_type": "code",
   "execution_count": 2,
   "id": "bee9472e-f8b7-4270-9efb-4380af379c71",
   "metadata": {},
   "outputs": [],
   "source": [
    "library(reticulate)\n"
   ]
  },
  {
   "cell_type": "code",
   "execution_count": 2,
   "id": "325246e6-f9d5-41e5-b25d-30b41344210b",
   "metadata": {},
   "outputs": [
    {
     "data": {
      "text/plain": [
       "An object of class Seurat \n",
       "33538 features across 220409 samples within 1 assay \n",
       "Active assay: RNA (33538 features, 0 variable features)\n",
       " 2 layers present: counts, data"
      ]
     },
     "metadata": {},
     "output_type": "display_data"
    }
   ],
   "source": [
    "Angular_gyrus <- readRDS(\"/12tb_dsk2/common_data/all_single_cell_data/multi_region_single_cell/Angular_gyrus.rds\")\n",
    "Angular_gyrus\n",
    "\n",
    "# Trigger garbage c"
   ]
  },
  {
   "cell_type": "code",
   "execution_count": 5,
   "id": "878dea99-9129-413f-93a3-3d906000ce0f",
   "metadata": {},
   "outputs": [
    {
     "data": {
      "text/html": [
       "<table class=\"dataframe\">\n",
       "<caption>A data.frame: 6 × 3</caption>\n",
       "<thead>\n",
       "\t<tr><th></th><th scope=col>projid</th><th scope=col>cell_type_high_resolution</th><th scope=col>major_cell_type</th></tr>\n",
       "\t<tr><th></th><th scope=col>&lt;int&gt;</th><th scope=col>&lt;chr&gt;</th><th scope=col>&lt;chr&gt;</th></tr>\n",
       "</thead>\n",
       "<tbody>\n",
       "\t<tr><th scope=row>AACCATGTCATTGCGA-1-0</th><td>50410319</td><td>Ast DPP10</td><td>Ast</td></tr>\n",
       "\t<tr><th scope=row>AACGGGATCGAGATGG-1-0</th><td>50410319</td><td>Ast GRM3 </td><td>Ast</td></tr>\n",
       "\t<tr><th scope=row>AACGTCAAGCGTGAAC-1-0</th><td>50410319</td><td>Ast GRM3 </td><td>Ast</td></tr>\n",
       "\t<tr><th scope=row>AAGCGAGAGGACAAGA-1-0</th><td>50410319</td><td>Ast GRM3 </td><td>Ast</td></tr>\n",
       "\t<tr><th scope=row>AAGGTAACATGGGATG-1-0</th><td>50410319</td><td>Ast GRM3 </td><td>Ast</td></tr>\n",
       "\t<tr><th scope=row>AAGTACCTCCGAGTGC-1-0</th><td>50410319</td><td>Ast DCLK1</td><td>Ast</td></tr>\n",
       "</tbody>\n",
       "</table>\n"
      ],
      "text/latex": [
       "A data.frame: 6 × 3\n",
       "\\begin{tabular}{r|lll}\n",
       "  & projid & cell\\_type\\_high\\_resolution & major\\_cell\\_type\\\\\n",
       "  & <int> & <chr> & <chr>\\\\\n",
       "\\hline\n",
       "\tAACCATGTCATTGCGA-1-0 & 50410319 & Ast DPP10 & Ast\\\\\n",
       "\tAACGGGATCGAGATGG-1-0 & 50410319 & Ast GRM3  & Ast\\\\\n",
       "\tAACGTCAAGCGTGAAC-1-0 & 50410319 & Ast GRM3  & Ast\\\\\n",
       "\tAAGCGAGAGGACAAGA-1-0 & 50410319 & Ast GRM3  & Ast\\\\\n",
       "\tAAGGTAACATGGGATG-1-0 & 50410319 & Ast GRM3  & Ast\\\\\n",
       "\tAAGTACCTCCGAGTGC-1-0 & 50410319 & Ast DCLK1 & Ast\\\\\n",
       "\\end{tabular}\n"
      ],
      "text/markdown": [
       "\n",
       "A data.frame: 6 × 3\n",
       "\n",
       "| <!--/--> | projid &lt;int&gt; | cell_type_high_resolution &lt;chr&gt; | major_cell_type &lt;chr&gt; |\n",
       "|---|---|---|---|\n",
       "| AACCATGTCATTGCGA-1-0 | 50410319 | Ast DPP10 | Ast |\n",
       "| AACGGGATCGAGATGG-1-0 | 50410319 | Ast GRM3  | Ast |\n",
       "| AACGTCAAGCGTGAAC-1-0 | 50410319 | Ast GRM3  | Ast |\n",
       "| AAGCGAGAGGACAAGA-1-0 | 50410319 | Ast GRM3  | Ast |\n",
       "| AAGGTAACATGGGATG-1-0 | 50410319 | Ast GRM3  | Ast |\n",
       "| AAGTACCTCCGAGTGC-1-0 | 50410319 | Ast DCLK1 | Ast |\n",
       "\n"
      ],
      "text/plain": [
       "                     projid   cell_type_high_resolution major_cell_type\n",
       "AACCATGTCATTGCGA-1-0 50410319 Ast DPP10                 Ast            \n",
       "AACGGGATCGAGATGG-1-0 50410319 Ast GRM3                  Ast            \n",
       "AACGTCAAGCGTGAAC-1-0 50410319 Ast GRM3                  Ast            \n",
       "AAGCGAGAGGACAAGA-1-0 50410319 Ast GRM3                  Ast            \n",
       "AAGGTAACATGGGATG-1-0 50410319 Ast GRM3                  Ast            \n",
       "AAGTACCTCCGAGTGC-1-0 50410319 Ast DCLK1                 Ast            "
      ]
     },
     "metadata": {},
     "output_type": "display_data"
    }
   ],
   "source": [
    "head(Angular_gyrus@meta.data)"
   ]
  },
  {
   "cell_type": "code",
   "execution_count": null,
   "id": "55840f16-bc4b-4b9e-8375-9e210a53a21e",
   "metadata": {},
   "outputs": [],
   "source": []
  },
  {
   "cell_type": "code",
   "execution_count": null,
   "id": "34ff3903-9098-4f07-8bc2-bf771a4ab133",
   "metadata": {},
   "outputs": [],
   "source": [
    "metadata <- Angular_gyrus@meta.data\n",
    "count_matrix <- GetAssayData(Angular_gyrus, slot = \"counts\")\n",
    "feature_names <- rownames(count_matrix)\n",
    "count_df <- as.data.frame(as.matrix(count_matrix)\n",
    "anndata <- import(\"anndata\")\n",
    "adata <- anndata$AnnData(X = as.matrix(count_df), obs = metadata)\n",
    "adata$write_h5ad(\"/12tb_dsk2/common_data/all_single_cell_data/multi_region_single_cell/Angular_gyrus.h5ad\")\n",
    "\n",
    "metadata <- Entorhinal_cortex@meta.data\n",
    "count_matrix <- GetAssayData(Entorhinal_cortex, slot = \"counts\")\n",
    "feature_names <- rownames(count_matrix)\n",
    "count_df <- as.data.frame(as.matrix(count_matrix)\n",
    "anndata <- import(\"anndata\")\n",
    "adata <- anndata$AnnData(X = as.matrix(count_df), obs = metadata)\n",
    "adata$write_h5ad(\"/12tb_dsk2/common_data/all_single_cell_data/multi_region_single_cell/Entorhinal_cortex.h5ad\")\n",
    "rm(Angular_gyrus)\n",
    "gc()\n",
    "\n",
    "metadata <- Hippocampus@meta.data\n",
    "count_matrix <- GetAssayData(Hippocampus, slot = \"counts\")\n",
    "feature_names <- rownames(count_matrix)\n",
    "count_df <- as.data.frame(as.matrix(count_matrix)\n",
    "anndata <- import(\"anndata\")\n",
    "adata <- anndata$AnnData(X = as.matrix(count_df), obs = metadata)\n",
    "adata$write_h5ad(\"/12tb_dsk2/common_data/all_single_cell_data/multi_region_single_cell/Hippocampus.h5ad\")\n",
    "rm(Hippocampus)\n",
    "gc()\n",
    "                          \n",
    "metadata <- Midtemporal_cortex@meta.data\n",
    "count_matrix <- GetAssayData(Midtemporal_cortex, slot = \"counts\")\n",
    "feature_names <- rownames(count_matrix)\n",
    "count_df <- as.data.frame(as.matrix(count_matrix)\n",
    "anndata <- import(\"anndata\")\n",
    "adata <- anndata$AnnData(X = as.matrix(count_df), obs = metadata)\n",
    "adata$write_h5ad(\"/12tb_dsk2/common_data/all_single_cell_data/multi_region_single_cell/Midtemporal_cortex.h5ad\")\n",
    "rm(Midtemporal_cortex)\n",
    "gc()\n",
    "                          \n",
    "metadata <- Thalamus@meta.data\n",
    "count_matrix <- GetAssayData(Thalamus, slot = \"counts\")\n",
    "feature_names <- rownames(count_matrix)\n",
    "count_df <- as.data.frame(as.matrix(count_matrix)\n",
    "anndata <- import(\"anndata\")\n",
    "adata <- anndata$AnnData(X = as.matrix(count_df), obs = metadata)\n",
    "adata$write_h5ad(\"/12tb_dsk2/common_data/all_single_cell_data/multi_region_single_cell/Thalamus.h5ad\")\n",
    "rm(Thalamus)\n",
    "gc()\n",
    "                          \n",
    "metadata <- Prefrontal_cortex@meta.data\n",
    "count_matrix <- GetAssayData(Prefrontal_cortex, slot = \"counts\")\n",
    "feature_names <- rownames(count_matrix)\n",
    "count_df <- as.data.frame(as.matrix(count_matrix)\n",
    "anndata <- import(\"anndata\")\n",
    "adata <- anndata$AnnData(X = as.matrix(count_df), obs = metadata)\n",
    "adata$write_h5ad(\"/12tb_dsk2/common_data/all_single_cell_data/multi_region_single_cell/Prefrontal_cortex.h5ad\")                         \n",
    "rm(Prefrontal_cortex)\n",
    "gc()"
   ]
  },
  {
   "cell_type": "code",
   "execution_count": null,
   "id": "145984f9-5692-4e00-ba03-bcee19f6d7ae",
   "metadata": {},
   "outputs": [],
   "source": []
  },
  {
   "cell_type": "code",
   "execution_count": null,
   "id": "43b70cdf-e1ad-4021-b400-80eab36ce8d6",
   "metadata": {},
   "outputs": [],
   "source": []
  },
  {
   "cell_type": "code",
   "execution_count": null,
   "id": "43b659c7-6160-4815-bdd4-0529672a8c27",
   "metadata": {},
   "outputs": [],
   "source": [
    "library(reticulate)\n"
   ]
  },
  {
   "cell_type": "code",
   "execution_count": null,
   "id": "81f20b3b-9151-447f-941b-462beec06d4a",
   "metadata": {},
   "outputs": [],
   "source": []
  },
  {
   "cell_type": "code",
   "execution_count": null,
   "id": "f6b44fd0-ba0c-4af1-9e22-28b92dd240d2",
   "metadata": {},
   "outputs": [],
   "source": []
  },
  {
   "cell_type": "code",
   "execution_count": null,
   "id": "db13bbcf-f3de-4080-802c-7ab8be6b848d",
   "metadata": {},
   "outputs": [],
   "source": []
  },
  {
   "cell_type": "code",
   "execution_count": null,
   "id": "a8d6ae9f-d797-4720-aa45-700a06be523f",
   "metadata": {},
   "outputs": [],
   "source": []
  },
  {
   "cell_type": "markdown",
   "id": "ec2c7792-cb52-4bc2-8c0f-f822b9611a76",
   "metadata": {},
   "source": [
    "# Python Code"
   ]
  },
  {
   "cell_type": "code",
   "execution_count": null,
   "id": "0d394747-6661-4bf0-a0fa-c6aaf98624a1",
   "metadata": {},
   "outputs": [],
   "source": [
    "import numpy as np\n",
    "import pandas as pd\n",
    "import scanpy as sc\n",
    "from anndata import read_h5ad"
   ]
  },
  {
   "cell_type": "code",
   "execution_count": 2,
   "id": "4eb7f0e9-63c5-4324-8413-ffeea96668dd",
   "metadata": {},
   "outputs": [],
   "source": [
    "adata = read_h5ad('/12tb_dsk2/common_data/all_single_cell_data/multi_region_single_cell/all_brain_regions_filt_preprocessed_scanpy_fullmatrix.h5ad')"
   ]
  },
  {
   "cell_type": "code",
   "execution_count": 6,
   "id": "800db0f8-290d-475a-a81e-0398b036b78e",
   "metadata": {},
   "outputs": [
    {
     "data": {
      "text/plain": [
       "AnnData object with n_obs × n_vars = 1612073 × 18914\n",
       "    obs: 'obsnames'\n",
       "    var: 'varnames'"
      ]
     },
     "execution_count": 6,
     "metadata": {},
     "output_type": "execute_result"
    }
   ],
   "source": [
    "adata"
   ]
  },
  {
   "cell_type": "code",
   "execution_count": 5,
   "id": "5fa21837-256d-48a2-9126-2b67245744fe",
   "metadata": {},
   "outputs": [
    {
     "name": "stderr",
     "output_type": "stream",
     "text": [
      "/tmp/ipykernel_3520182/4221255920.py:1: DtypeWarning: Columns (10,12,15,16,17) have mixed types. Specify dtype option on import or set low_memory=False.\n",
      "  metadata = pd.read_csv('/12tb_dsk2/common_data/all_single_cell_data/multi_region_single_cell/all_brain_regions_filt_preprocessed_scanpy_norm.final_noMB.cell_labels.tsv',sep= '\\t')\n"
     ]
    },
    {
     "data": {
      "text/html": [
       "<div>\n",
       "<style scoped>\n",
       "    .dataframe tbody tr th:only-of-type {\n",
       "        vertical-align: middle;\n",
       "    }\n",
       "\n",
       "    .dataframe tbody tr th {\n",
       "        vertical-align: top;\n",
       "    }\n",
       "\n",
       "    .dataframe thead th {\n",
       "        text-align: right;\n",
       "    }\n",
       "</style>\n",
       "<table border=\"1\" class=\"dataframe\">\n",
       "  <thead>\n",
       "    <tr style=\"text-align: right;\">\n",
       "      <th></th>\n",
       "      <th>lbl</th>\n",
       "      <th>U1</th>\n",
       "      <th>U2</th>\n",
       "      <th>barcode</th>\n",
       "      <th>rind</th>\n",
       "      <th>region</th>\n",
       "      <th>projid</th>\n",
       "      <th>is.doublet</th>\n",
       "      <th>col</th>\n",
       "      <th>tspcol</th>\n",
       "      <th>hcluster</th>\n",
       "      <th>hcelltype</th>\n",
       "      <th>hsubclass</th>\n",
       "      <th>major.celltype</th>\n",
       "      <th>minor.celltype</th>\n",
       "      <th>neuronal.layer</th>\n",
       "      <th>inh.subtype</th>\n",
       "      <th>neuronal.exttype</th>\n",
       "      <th>full.exttype</th>\n",
       "      <th>cell_type_high_resolution</th>\n",
       "    </tr>\n",
       "  </thead>\n",
       "  <tbody>\n",
       "    <tr>\n",
       "      <th>0</th>\n",
       "      <td>168</td>\n",
       "      <td>-2.428250</td>\n",
       "      <td>8.324310</td>\n",
       "      <td>AG_AACCATGTCATTGCGA-1</td>\n",
       "      <td>AG.1</td>\n",
       "      <td>AG</td>\n",
       "      <td>50410319</td>\n",
       "      <td>False</td>\n",
       "      <td>#E31A1C</td>\n",
       "      <td>#E31A1C80</td>\n",
       "      <td>NaN</td>\n",
       "      <td>Ast</td>\n",
       "      <td>NaN</td>\n",
       "      <td>Ast</td>\n",
       "      <td>Ast</td>\n",
       "      <td>NaN</td>\n",
       "      <td>NaN</td>\n",
       "      <td>NaN</td>\n",
       "      <td>Ast</td>\n",
       "      <td>Ast DPP10</td>\n",
       "    </tr>\n",
       "    <tr>\n",
       "      <th>1</th>\n",
       "      <td>164</td>\n",
       "      <td>-5.414470</td>\n",
       "      <td>12.086900</td>\n",
       "      <td>AG_AACGGGATCGAGATGG-1</td>\n",
       "      <td>AG.1</td>\n",
       "      <td>AG</td>\n",
       "      <td>50410319</td>\n",
       "      <td>False</td>\n",
       "      <td>#E31A1C</td>\n",
       "      <td>#E31A1C80</td>\n",
       "      <td>NaN</td>\n",
       "      <td>Ast</td>\n",
       "      <td>NaN</td>\n",
       "      <td>Ast</td>\n",
       "      <td>Ast</td>\n",
       "      <td>NaN</td>\n",
       "      <td>NaN</td>\n",
       "      <td>NaN</td>\n",
       "      <td>Ast</td>\n",
       "      <td>Ast GRM3</td>\n",
       "    </tr>\n",
       "    <tr>\n",
       "      <th>2</th>\n",
       "      <td>22</td>\n",
       "      <td>-2.404900</td>\n",
       "      <td>10.881300</td>\n",
       "      <td>AG_AACGTCAAGCGTGAAC-1</td>\n",
       "      <td>AG.1</td>\n",
       "      <td>AG</td>\n",
       "      <td>50410319</td>\n",
       "      <td>False</td>\n",
       "      <td>#E31A1C</td>\n",
       "      <td>#E31A1C80</td>\n",
       "      <td>NaN</td>\n",
       "      <td>Ast</td>\n",
       "      <td>NaN</td>\n",
       "      <td>Ast</td>\n",
       "      <td>Ast</td>\n",
       "      <td>NaN</td>\n",
       "      <td>NaN</td>\n",
       "      <td>NaN</td>\n",
       "      <td>Ast</td>\n",
       "      <td>Ast GRM3</td>\n",
       "    </tr>\n",
       "    <tr>\n",
       "      <th>3</th>\n",
       "      <td>164</td>\n",
       "      <td>-5.492280</td>\n",
       "      <td>13.338700</td>\n",
       "      <td>AG_AAGCGAGAGGACAAGA-1</td>\n",
       "      <td>AG.1</td>\n",
       "      <td>AG</td>\n",
       "      <td>50410319</td>\n",
       "      <td>False</td>\n",
       "      <td>#E31A1C</td>\n",
       "      <td>#E31A1C80</td>\n",
       "      <td>NaN</td>\n",
       "      <td>Ast</td>\n",
       "      <td>NaN</td>\n",
       "      <td>Ast</td>\n",
       "      <td>Ast</td>\n",
       "      <td>NaN</td>\n",
       "      <td>NaN</td>\n",
       "      <td>NaN</td>\n",
       "      <td>Ast</td>\n",
       "      <td>Ast GRM3</td>\n",
       "    </tr>\n",
       "    <tr>\n",
       "      <th>4</th>\n",
       "      <td>100</td>\n",
       "      <td>-3.846350</td>\n",
       "      <td>12.626400</td>\n",
       "      <td>AG_AAGGTAACATGGGATG-1</td>\n",
       "      <td>AG.1</td>\n",
       "      <td>AG</td>\n",
       "      <td>50410319</td>\n",
       "      <td>False</td>\n",
       "      <td>#E31A1C</td>\n",
       "      <td>#E31A1C80</td>\n",
       "      <td>NaN</td>\n",
       "      <td>Ast</td>\n",
       "      <td>NaN</td>\n",
       "      <td>Ast</td>\n",
       "      <td>Ast</td>\n",
       "      <td>NaN</td>\n",
       "      <td>NaN</td>\n",
       "      <td>NaN</td>\n",
       "      <td>Ast</td>\n",
       "      <td>Ast GRM3</td>\n",
       "    </tr>\n",
       "    <tr>\n",
       "      <th>...</th>\n",
       "      <td>...</td>\n",
       "      <td>...</td>\n",
       "      <td>...</td>\n",
       "      <td>...</td>\n",
       "      <td>...</td>\n",
       "      <td>...</td>\n",
       "      <td>...</td>\n",
       "      <td>...</td>\n",
       "      <td>...</td>\n",
       "      <td>...</td>\n",
       "      <td>...</td>\n",
       "      <td>...</td>\n",
       "      <td>...</td>\n",
       "      <td>...</td>\n",
       "      <td>...</td>\n",
       "      <td>...</td>\n",
       "      <td>...</td>\n",
       "      <td>...</td>\n",
       "      <td>...</td>\n",
       "      <td>...</td>\n",
       "    </tr>\n",
       "    <tr>\n",
       "      <th>1353070</th>\n",
       "      <td>184</td>\n",
       "      <td>0.669809</td>\n",
       "      <td>5.040410</td>\n",
       "      <td>TH_TTGCCTGGTACATACC-47</td>\n",
       "      <td>TH.47</td>\n",
       "      <td>TH</td>\n",
       "      <td>94430339</td>\n",
       "      <td>False</td>\n",
       "      <td>#FED9A6</td>\n",
       "      <td>#FED9A680</td>\n",
       "      <td>choroid_plexus_epithelial_cells</td>\n",
       "      <td>Vasc/Epithelia</td>\n",
       "      <td>NaN</td>\n",
       "      <td>Vasc/Epithelia</td>\n",
       "      <td>CPEC</td>\n",
       "      <td>NaN</td>\n",
       "      <td>NaN</td>\n",
       "      <td>NaN</td>\n",
       "      <td>CPEC</td>\n",
       "      <td>CPEC</td>\n",
       "    </tr>\n",
       "    <tr>\n",
       "      <th>1353071</th>\n",
       "      <td>131</td>\n",
       "      <td>5.291230</td>\n",
       "      <td>0.209286</td>\n",
       "      <td>TH_TTGGGATTCAACACGT-47</td>\n",
       "      <td>TH.47</td>\n",
       "      <td>TH</td>\n",
       "      <td>94430339</td>\n",
       "      <td>False</td>\n",
       "      <td>#FED9A6</td>\n",
       "      <td>#1F78B480</td>\n",
       "      <td>endothelial_cells</td>\n",
       "      <td>Vasc/Epithelia</td>\n",
       "      <td>NaN</td>\n",
       "      <td>Vasc/Epithelia</td>\n",
       "      <td>End</td>\n",
       "      <td>NaN</td>\n",
       "      <td>NaN</td>\n",
       "      <td>NaN</td>\n",
       "      <td>End</td>\n",
       "      <td>End</td>\n",
       "    </tr>\n",
       "    <tr>\n",
       "      <th>1353072</th>\n",
       "      <td>207</td>\n",
       "      <td>3.646170</td>\n",
       "      <td>0.957303</td>\n",
       "      <td>TH_TTGGGTAAGAGAGAAC-47</td>\n",
       "      <td>TH.47</td>\n",
       "      <td>TH</td>\n",
       "      <td>94430339</td>\n",
       "      <td>False</td>\n",
       "      <td>#FED9A6</td>\n",
       "      <td>#FED9A680</td>\n",
       "      <td>fibroblasts</td>\n",
       "      <td>Vasc/Epithelia</td>\n",
       "      <td>NaN</td>\n",
       "      <td>Vasc/Epithelia</td>\n",
       "      <td>Fib</td>\n",
       "      <td>NaN</td>\n",
       "      <td>NaN</td>\n",
       "      <td>NaN</td>\n",
       "      <td>Fib</td>\n",
       "      <td>Fib</td>\n",
       "    </tr>\n",
       "    <tr>\n",
       "      <th>1353073</th>\n",
       "      <td>184</td>\n",
       "      <td>0.820165</td>\n",
       "      <td>4.782530</td>\n",
       "      <td>TH_TTGTGTTGTCACGACC-47</td>\n",
       "      <td>TH.47</td>\n",
       "      <td>TH</td>\n",
       "      <td>94430339</td>\n",
       "      <td>False</td>\n",
       "      <td>#FED9A6</td>\n",
       "      <td>#FED9A680</td>\n",
       "      <td>choroid_plexus_epithelial_cells</td>\n",
       "      <td>Vasc/Epithelia</td>\n",
       "      <td>NaN</td>\n",
       "      <td>Vasc/Epithelia</td>\n",
       "      <td>CPEC</td>\n",
       "      <td>NaN</td>\n",
       "      <td>NaN</td>\n",
       "      <td>NaN</td>\n",
       "      <td>CPEC</td>\n",
       "      <td>CPEC</td>\n",
       "    </tr>\n",
       "    <tr>\n",
       "      <th>1353074</th>\n",
       "      <td>184</td>\n",
       "      <td>0.665545</td>\n",
       "      <td>4.990100</td>\n",
       "      <td>TH_TTTATGCGTACCGGCT-47</td>\n",
       "      <td>TH.47</td>\n",
       "      <td>TH</td>\n",
       "      <td>94430339</td>\n",
       "      <td>False</td>\n",
       "      <td>#FED9A6</td>\n",
       "      <td>#FED9A680</td>\n",
       "      <td>choroid_plexus_epithelial_cells</td>\n",
       "      <td>Vasc/Epithelia</td>\n",
       "      <td>NaN</td>\n",
       "      <td>Vasc/Epithelia</td>\n",
       "      <td>CPEC</td>\n",
       "      <td>NaN</td>\n",
       "      <td>NaN</td>\n",
       "      <td>NaN</td>\n",
       "      <td>CPEC</td>\n",
       "      <td>CPEC</td>\n",
       "    </tr>\n",
       "  </tbody>\n",
       "</table>\n",
       "<p>1353075 rows × 20 columns</p>\n",
       "</div>"
      ],
      "text/plain": [
       "         lbl        U1         U2                 barcode   rind region  \\\n",
       "0        168 -2.428250   8.324310   AG_AACCATGTCATTGCGA-1   AG.1     AG   \n",
       "1        164 -5.414470  12.086900   AG_AACGGGATCGAGATGG-1   AG.1     AG   \n",
       "2         22 -2.404900  10.881300   AG_AACGTCAAGCGTGAAC-1   AG.1     AG   \n",
       "3        164 -5.492280  13.338700   AG_AAGCGAGAGGACAAGA-1   AG.1     AG   \n",
       "4        100 -3.846350  12.626400   AG_AAGGTAACATGGGATG-1   AG.1     AG   \n",
       "...      ...       ...        ...                     ...    ...    ...   \n",
       "1353070  184  0.669809   5.040410  TH_TTGCCTGGTACATACC-47  TH.47     TH   \n",
       "1353071  131  5.291230   0.209286  TH_TTGGGATTCAACACGT-47  TH.47     TH   \n",
       "1353072  207  3.646170   0.957303  TH_TTGGGTAAGAGAGAAC-47  TH.47     TH   \n",
       "1353073  184  0.820165   4.782530  TH_TTGTGTTGTCACGACC-47  TH.47     TH   \n",
       "1353074  184  0.665545   4.990100  TH_TTTATGCGTACCGGCT-47  TH.47     TH   \n",
       "\n",
       "           projid  is.doublet      col     tspcol  \\\n",
       "0        50410319       False  #E31A1C  #E31A1C80   \n",
       "1        50410319       False  #E31A1C  #E31A1C80   \n",
       "2        50410319       False  #E31A1C  #E31A1C80   \n",
       "3        50410319       False  #E31A1C  #E31A1C80   \n",
       "4        50410319       False  #E31A1C  #E31A1C80   \n",
       "...           ...         ...      ...        ...   \n",
       "1353070  94430339       False  #FED9A6  #FED9A680   \n",
       "1353071  94430339       False  #FED9A6  #1F78B480   \n",
       "1353072  94430339       False  #FED9A6  #FED9A680   \n",
       "1353073  94430339       False  #FED9A6  #FED9A680   \n",
       "1353074  94430339       False  #FED9A6  #FED9A680   \n",
       "\n",
       "                                hcluster       hcelltype hsubclass  \\\n",
       "0                                    NaN             Ast       NaN   \n",
       "1                                    NaN             Ast       NaN   \n",
       "2                                    NaN             Ast       NaN   \n",
       "3                                    NaN             Ast       NaN   \n",
       "4                                    NaN             Ast       NaN   \n",
       "...                                  ...             ...       ...   \n",
       "1353070  choroid_plexus_epithelial_cells  Vasc/Epithelia       NaN   \n",
       "1353071                endothelial_cells  Vasc/Epithelia       NaN   \n",
       "1353072                      fibroblasts  Vasc/Epithelia       NaN   \n",
       "1353073  choroid_plexus_epithelial_cells  Vasc/Epithelia       NaN   \n",
       "1353074  choroid_plexus_epithelial_cells  Vasc/Epithelia       NaN   \n",
       "\n",
       "         major.celltype minor.celltype neuronal.layer inh.subtype  \\\n",
       "0                   Ast            Ast            NaN         NaN   \n",
       "1                   Ast            Ast            NaN         NaN   \n",
       "2                   Ast            Ast            NaN         NaN   \n",
       "3                   Ast            Ast            NaN         NaN   \n",
       "4                   Ast            Ast            NaN         NaN   \n",
       "...                 ...            ...            ...         ...   \n",
       "1353070  Vasc/Epithelia           CPEC            NaN         NaN   \n",
       "1353071  Vasc/Epithelia            End            NaN         NaN   \n",
       "1353072  Vasc/Epithelia            Fib            NaN         NaN   \n",
       "1353073  Vasc/Epithelia           CPEC            NaN         NaN   \n",
       "1353074  Vasc/Epithelia           CPEC            NaN         NaN   \n",
       "\n",
       "        neuronal.exttype full.exttype cell_type_high_resolution  \n",
       "0                    NaN          Ast                 Ast DPP10  \n",
       "1                    NaN          Ast                  Ast GRM3  \n",
       "2                    NaN          Ast                  Ast GRM3  \n",
       "3                    NaN          Ast                  Ast GRM3  \n",
       "4                    NaN          Ast                  Ast GRM3  \n",
       "...                  ...          ...                       ...  \n",
       "1353070              NaN         CPEC                      CPEC  \n",
       "1353071              NaN          End                       End  \n",
       "1353072              NaN          Fib                       Fib  \n",
       "1353073              NaN         CPEC                      CPEC  \n",
       "1353074              NaN         CPEC                      CPEC  \n",
       "\n",
       "[1353075 rows x 20 columns]"
      ]
     },
     "execution_count": 5,
     "metadata": {},
     "output_type": "execute_result"
    }
   ],
   "source": [
    "metadata = pd.read_csv('/12tb_dsk2/common_data/all_single_cell_data/multi_region_single_cell/all_brain_regions_filt_preprocessed_scanpy_norm.final_noMB.cell_labels.tsv',sep= '\\t')\n",
    "metadata"
   ]
  },
  {
   "cell_type": "code",
   "execution_count": 13,
   "id": "3d3d6e3e-d8df-4ca0-b093-97fde1c1d989",
   "metadata": {},
   "outputs": [
    {
     "data": {
      "text/plain": [
       "minor.celltype\n",
       "Exc     436014\n",
       "Oli     408956\n",
       "Inh     159838\n",
       "Ast     127213\n",
       "Mic      92800\n",
       "Opc      80805\n",
       "Fib      10203\n",
       "CAM       9807\n",
       "CPEC      6446\n",
       "Epd       5976\n",
       "End       5350\n",
       "T         4444\n",
       "Per       3422\n",
       "SMC       1801\n",
       "Name: count, dtype: int64"
      ]
     },
     "execution_count": 13,
     "metadata": {},
     "output_type": "execute_result"
    }
   ],
   "source": [
    "metadata['minor.celltype'].value_counts()"
   ]
  },
  {
   "cell_type": "code",
   "execution_count": 14,
   "id": "fd8daa4c-7ebd-4adf-9320-6d5aea444aaa",
   "metadata": {},
   "outputs": [
    {
     "data": {
      "text/plain": [
       "major.celltype\n",
       "Exc               436014\n",
       "Oli               408956\n",
       "Inh               159838\n",
       "Ast               127213\n",
       "Mic/Immune        107051\n",
       "Opc                80805\n",
       "Vasc/Epithelia     33198\n",
       "Name: count, dtype: int64"
      ]
     },
     "execution_count": 14,
     "metadata": {},
     "output_type": "execute_result"
    }
   ],
   "source": [
    "metadata['major.celltype'].value_counts()"
   ]
  },
  {
   "cell_type": "code",
   "execution_count": 15,
   "id": "8809f7fd-2659-4fc2-86b4-1080f548a346",
   "metadata": {},
   "outputs": [
    {
     "data": {
      "text/plain": [
       "region\n",
       "PFC    254721\n",
       "MT     227412\n",
       "EC     221493\n",
       "HC     221415\n",
       "AG     220409\n",
       "TH     207625\n",
       "Name: count, dtype: int64"
      ]
     },
     "execution_count": 15,
     "metadata": {},
     "output_type": "execute_result"
    }
   ],
   "source": [
    "metadata['region'].value_counts()"
   ]
  },
  {
   "cell_type": "code",
   "execution_count": 16,
   "id": "efc1bce3-2e9d-415a-8167-09ca2adfd3c2",
   "metadata": {},
   "outputs": [
    {
     "data": {
      "text/plain": [
       "is.doublet\n",
       "False    1353075\n",
       "Name: count, dtype: int64"
      ]
     },
     "execution_count": 16,
     "metadata": {},
     "output_type": "execute_result"
    }
   ],
   "source": [
    "metadata['is.doublet'].value_counts()"
   ]
  },
  {
   "cell_type": "code",
   "execution_count": 17,
   "id": "e0c5c905-be9e-4aa2-aa6e-0ac65aebb700",
   "metadata": {},
   "outputs": [
    {
     "data": {
      "text/plain": [
       "cell_type_high_resolution\n",
       "Oli OPALIN                  377068\n",
       "Exc L2-3 CBLN2 LINC02306    108271\n",
       "Mic P2RY12                   89386\n",
       "Ast GRM3                     61498\n",
       "Exc L3-4 RORB CUX2           56999\n",
       "                             ...  \n",
       "SMC                           1297\n",
       "Exc ZNF385D COL24A1            977\n",
       "Exc TOX3 POSTN                 647\n",
       "Mic MKI67                      372\n",
       "Exc SOX11 NCKAP5               215\n",
       "Name: count, Length: 76, dtype: int64"
      ]
     },
     "execution_count": 17,
     "metadata": {},
     "output_type": "execute_result"
    }
   ],
   "source": [
    "metadata['cell_type_high_resolution'].value_counts()"
   ]
  },
  {
   "cell_type": "code",
   "execution_count": 19,
   "id": "5d5c00ee-ba95-40bc-a099-1c8f557f35e2",
   "metadata": {},
   "outputs": [
    {
     "data": {
      "text/plain": [
       "View of AnnData object with n_obs × n_vars = 1353075 × 18914\n",
       "    obs: 'obsnames'\n",
       "    var: 'varnames'"
      ]
     },
     "execution_count": 19,
     "metadata": {},
     "output_type": "execute_result"
    }
   ],
   "source": [
    "adata = adata[adata.obs.obsnames.isin(metadata.barcode)]"
   ]
  },
  {
   "cell_type": "code",
   "execution_count": null,
   "id": "86be6f39-b7bd-491d-b834-67feb001c544",
   "metadata": {},
   "outputs": [],
   "source": []
  }
 ],
 "metadata": {
  "kernelspec": {
   "display_name": "R",
   "language": "R",
   "name": "ir"
  },
  "language_info": {
   "codemirror_mode": "r",
   "file_extension": ".r",
   "mimetype": "text/x-r-source",
   "name": "R",
   "pygments_lexer": "r",
   "version": "4.3.3"
  }
 },
 "nbformat": 4,
 "nbformat_minor": 5
}
